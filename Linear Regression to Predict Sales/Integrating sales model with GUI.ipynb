{
 "cells": [
  {
   "cell_type": "code",
   "execution_count": 63,
   "metadata": {},
   "outputs": [],
   "source": [
    "from tkinter import *\n",
    "import pickle"
   ]
  },
  {
   "cell_type": "code",
   "execution_count": 64,
   "metadata": {},
   "outputs": [],
   "source": [
    "#Loading the model\n",
    "Model_path = \"model/Regression.sav\"\n",
    "loaded_model = pickle.load(open(Model_path,'rb'))"
   ]
  },
  {
   "cell_type": "code",
   "execution_count": 65,
   "metadata": {},
   "outputs": [],
   "source": [
    "#Calc. sales wrt input\n",
    "def Calculate_Sale(arg):\n",
    "    res = loaded_model.predict([[tv.get(),radio.get(),newspaper.get()]])\n",
    "    sale_label.config(text = \"Expected sales : {:.2f}/-\".format(res[0][0]))\n",
    "                                                               "
   ]
  },
  {
   "cell_type": "code",
   "execution_count": 66,
   "metadata": {},
   "outputs": [
    {
     "data": {
      "text/plain": [
       "''"
      ]
     },
     "execution_count": 66,
     "metadata": {},
     "output_type": "execute_result"
    }
   ],
   "source": [
    "#Initializing the tkinter window\n",
    "master = Tk()\n",
    "master.geometry(\"700x400\")\n",
    "master.configure(background='#07575B')\n",
    "master.title(\"Sales Estimater\")"
   ]
  },
  {
   "cell_type": "code",
   "execution_count": 67,
   "metadata": {},
   "outputs": [],
   "source": [
    "#Label to show the estimated sale\n",
    "sale_label = Label(master,bg='#07575B',fg='white',font = (\"Times\",40,'bold'),text='Hello Tkinter!')\n",
    "sale_label.pack(padx=5,pady=5)"
   ]
  },
  {
   "cell_type": "code",
   "execution_count": 68,
   "metadata": {},
   "outputs": [],
   "source": [
    "#scale to take tv advertising investment amount the user\n",
    "tv = Scale(master,length=650,label='TV',bg='#C4DFE6',fg='black',from_=0,to=2000,orient=HORIZONTAL,command=Calculate_Sale)\n",
    "tv.set(10)\n",
    "tv.pack(padx=5,pady=5)"
   ]
  },
  {
   "cell_type": "code",
   "execution_count": 69,
   "metadata": {},
   "outputs": [],
   "source": [
    "#scale to take radio advertising investment amount the user\n",
    "radio = Scale(master,length=650,label='radio',bg='#C4DFE6',fg='black',from_=0,to=2000,orient=HORIZONTAL,command=Calculate_Sale)\n",
    "radio.set(10)\n",
    "radio.pack(padx=5,pady=5)"
   ]
  },
  {
   "cell_type": "code",
   "execution_count": 70,
   "metadata": {},
   "outputs": [],
   "source": [
    "#scale to take newspaper advertising investment amount the user\n",
    "newspaper = Scale(master,length=650,label='TV',bg='#C4DFE6',fg='black',from_=0,to=2000,orient=HORIZONTAL,command=Calculate_Sale)\n",
    "newspaper.set(10)\n",
    "newspaper.pack(padx=5,pady=5)"
   ]
  },
  {
   "cell_type": "code",
   "execution_count": 71,
   "metadata": {},
   "outputs": [],
   "source": [
    "#Showing the Application\n",
    "mainloop()"
   ]
  },
  {
   "cell_type": "code",
   "execution_count": null,
   "metadata": {},
   "outputs": [],
   "source": []
  }
 ],
 "metadata": {
  "kernelspec": {
   "display_name": "Python 3",
   "language": "python",
   "name": "python3"
  },
  "language_info": {
   "codemirror_mode": {
    "name": "ipython",
    "version": 3
   },
   "file_extension": ".py",
   "mimetype": "text/x-python",
   "name": "python",
   "nbconvert_exporter": "python",
   "pygments_lexer": "ipython3",
   "version": "3.9.1"
  }
 },
 "nbformat": 4,
 "nbformat_minor": 4
}
